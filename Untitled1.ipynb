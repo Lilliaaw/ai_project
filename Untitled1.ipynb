{
 "cells": [
  {
   "cell_type": "code",
   "execution_count": 3,
   "id": "f4c134da",
   "metadata": {},
   "outputs": [
    {
     "name": "stdout",
     "output_type": "stream",
     "text": [
      "Requirement already satisfied: keras-squeezenet in c:\\users\\lars\\anaconda3\\lib\\site-packages (0.4)\n",
      "Requirement already satisfied: tensorflow in c:\\users\\lars\\anaconda3\\lib\\site-packages (from keras-squeezenet) (2.8.0)\n",
      "Requirement already satisfied: h5py in c:\\users\\lars\\anaconda3\\lib\\site-packages (from keras-squeezenet) (3.2.1)\n",
      "Requirement already satisfied: numpy>=1.9.1 in c:\\users\\lars\\anaconda3\\lib\\site-packages (from keras-squeezenet) (1.20.3)\n",
      "Requirement already satisfied: six>=1.9.0 in c:\\users\\lars\\anaconda3\\lib\\site-packages (from keras-squeezenet) (1.16.0)\n",
      "Requirement already satisfied: pyyaml in c:\\users\\lars\\anaconda3\\lib\\site-packages (from keras-squeezenet) (6.0)\n",
      "Requirement already satisfied: keras in c:\\users\\lars\\anaconda3\\lib\\site-packages (from keras-squeezenet) (2.8.0)\n",
      "Requirement already satisfied: scipy>=0.14 in c:\\users\\lars\\anaconda3\\lib\\site-packages (from keras-squeezenet) (1.7.1)\n",
      "Requirement already satisfied: flatbuffers>=1.12 in c:\\users\\lars\\anaconda3\\lib\\site-packages (from tensorflow->keras-squeezenet) (2.0)\n",
      "Requirement already satisfied: astunparse>=1.6.0 in c:\\users\\lars\\anaconda3\\lib\\site-packages (from tensorflow->keras-squeezenet) (1.6.3)\n",
      "Requirement already satisfied: tensorflow-io-gcs-filesystem>=0.23.1 in c:\\users\\lars\\anaconda3\\lib\\site-packages (from tensorflow->keras-squeezenet) (0.24.0)\n",
      "Requirement already satisfied: tf-estimator-nightly==2.8.0.dev2021122109 in c:\\users\\lars\\anaconda3\\lib\\site-packages (from tensorflow->keras-squeezenet) (2.8.0.dev2021122109)\n",
      "Requirement already satisfied: setuptools in c:\\users\\lars\\anaconda3\\lib\\site-packages (from tensorflow->keras-squeezenet) (58.0.4)\n",
      "Requirement already satisfied: google-pasta>=0.1.1 in c:\\users\\lars\\anaconda3\\lib\\site-packages (from tensorflow->keras-squeezenet) (0.2.0)\n",
      "Requirement already satisfied: tensorboard<2.9,>=2.8 in c:\\users\\lars\\anaconda3\\lib\\site-packages (from tensorflow->keras-squeezenet) (2.8.0)\n",
      "Requirement already satisfied: gast>=0.2.1 in c:\\users\\lars\\anaconda3\\lib\\site-packages (from tensorflow->keras-squeezenet) (0.5.3)\n",
      "Requirement already satisfied: opt-einsum>=2.3.2 in c:\\users\\lars\\anaconda3\\lib\\site-packages (from tensorflow->keras-squeezenet) (3.3.0)\n",
      "Requirement already satisfied: grpcio<2.0,>=1.24.3 in c:\\users\\lars\\anaconda3\\lib\\site-packages (from tensorflow->keras-squeezenet) (1.44.0)\n",
      "Requirement already satisfied: absl-py>=0.4.0 in c:\\users\\lars\\anaconda3\\lib\\site-packages (from tensorflow->keras-squeezenet) (1.0.0)\n",
      "Requirement already satisfied: typing-extensions>=3.6.6 in c:\\users\\lars\\anaconda3\\lib\\site-packages (from tensorflow->keras-squeezenet) (3.10.0.2)\n",
      "Requirement already satisfied: termcolor>=1.1.0 in c:\\users\\lars\\anaconda3\\lib\\site-packages (from tensorflow->keras-squeezenet) (1.1.0)\n",
      "Requirement already satisfied: libclang>=9.0.1 in c:\\users\\lars\\anaconda3\\lib\\site-packages (from tensorflow->keras-squeezenet) (13.0.0)\n",
      "Requirement already satisfied: keras-preprocessing>=1.1.1 in c:\\users\\lars\\anaconda3\\lib\\site-packages (from tensorflow->keras-squeezenet) (1.1.2)\n",
      "Requirement already satisfied: wrapt>=1.11.0 in c:\\users\\lars\\anaconda3\\lib\\site-packages (from tensorflow->keras-squeezenet) (1.12.1)\n",
      "Requirement already satisfied: protobuf>=3.9.2 in c:\\users\\lars\\anaconda3\\lib\\site-packages (from tensorflow->keras-squeezenet) (3.19.4)\n",
      "Requirement already satisfied: wheel<1.0,>=0.23.0 in c:\\users\\lars\\anaconda3\\lib\\site-packages (from astunparse>=1.6.0->tensorflow->keras-squeezenet) (0.37.0)\n",
      "Requirement already satisfied: google-auth-oauthlib<0.5,>=0.4.1 in c:\\users\\lars\\anaconda3\\lib\\site-packages (from tensorboard<2.9,>=2.8->tensorflow->keras-squeezenet) (0.4.6)\n",
      "Requirement already satisfied: tensorboard-plugin-wit>=1.6.0 in c:\\users\\lars\\anaconda3\\lib\\site-packages (from tensorboard<2.9,>=2.8->tensorflow->keras-squeezenet) (1.8.1)\n",
      "Requirement already satisfied: markdown>=2.6.8 in c:\\users\\lars\\anaconda3\\lib\\site-packages (from tensorboard<2.9,>=2.8->tensorflow->keras-squeezenet) (3.3.6)\n",
      "Requirement already satisfied: requests<3,>=2.21.0 in c:\\users\\lars\\anaconda3\\lib\\site-packages (from tensorboard<2.9,>=2.8->tensorflow->keras-squeezenet) (2.26.0)\n",
      "Requirement already satisfied: google-auth<3,>=1.6.3 in c:\\users\\lars\\anaconda3\\lib\\site-packages (from tensorboard<2.9,>=2.8->tensorflow->keras-squeezenet) (2.6.2)\n",
      "Requirement already satisfied: tensorboard-data-server<0.7.0,>=0.6.0 in c:\\users\\lars\\anaconda3\\lib\\site-packages (from tensorboard<2.9,>=2.8->tensorflow->keras-squeezenet) (0.6.1)\n",
      "Requirement already satisfied: werkzeug>=0.11.15 in c:\\users\\lars\\anaconda3\\lib\\site-packages (from tensorboard<2.9,>=2.8->tensorflow->keras-squeezenet) (2.0.2)\n",
      "Requirement already satisfied: rsa<5,>=3.1.4 in c:\\users\\lars\\anaconda3\\lib\\site-packages (from google-auth<3,>=1.6.3->tensorboard<2.9,>=2.8->tensorflow->keras-squeezenet) (4.8)\n",
      "Requirement already satisfied: pyasn1-modules>=0.2.1 in c:\\users\\lars\\anaconda3\\lib\\site-packages (from google-auth<3,>=1.6.3->tensorboard<2.9,>=2.8->tensorflow->keras-squeezenet) (0.2.8)\n",
      "Requirement already satisfied: cachetools<6.0,>=2.0.0 in c:\\users\\lars\\anaconda3\\lib\\site-packages (from google-auth<3,>=1.6.3->tensorboard<2.9,>=2.8->tensorflow->keras-squeezenet) (5.0.0)\n",
      "Requirement already satisfied: requests-oauthlib>=0.7.0 in c:\\users\\lars\\anaconda3\\lib\\site-packages (from google-auth-oauthlib<0.5,>=0.4.1->tensorboard<2.9,>=2.8->tensorflow->keras-squeezenet) (1.3.1)\n",
      "Requirement already satisfied: importlib-metadata>=4.4 in c:\\users\\lars\\anaconda3\\lib\\site-packages (from markdown>=2.6.8->tensorboard<2.9,>=2.8->tensorflow->keras-squeezenet) (4.8.1)\n",
      "Requirement already satisfied: charset-normalizer~=2.0.0 in c:\\users\\lars\\anaconda3\\lib\\site-packages (from requests<3,>=2.21.0->tensorboard<2.9,>=2.8->tensorflow->keras-squeezenet) (2.0.4)\n",
      "Requirement already satisfied: certifi>=2017.4.17 in c:\\users\\lars\\anaconda3\\lib\\site-packages (from requests<3,>=2.21.0->tensorboard<2.9,>=2.8->tensorflow->keras-squeezenet) (2021.10.8)\n",
      "Requirement already satisfied: idna<4,>=2.5 in c:\\users\\lars\\anaconda3\\lib\\site-packages (from requests<3,>=2.21.0->tensorboard<2.9,>=2.8->tensorflow->keras-squeezenet) (3.2)\n",
      "Requirement already satisfied: urllib3<1.27,>=1.21.1 in c:\\users\\lars\\anaconda3\\lib\\site-packages (from requests<3,>=2.21.0->tensorboard<2.9,>=2.8->tensorflow->keras-squeezenet) (1.26.7)\n",
      "Requirement already satisfied: zipp>=0.5 in c:\\users\\lars\\anaconda3\\lib\\site-packages (from importlib-metadata>=4.4->markdown>=2.6.8->tensorboard<2.9,>=2.8->tensorflow->keras-squeezenet) (3.6.0)\n",
      "Requirement already satisfied: pyasn1<0.5.0,>=0.4.6 in c:\\users\\lars\\anaconda3\\lib\\site-packages (from pyasn1-modules>=0.2.1->google-auth<3,>=1.6.3->tensorboard<2.9,>=2.8->tensorflow->keras-squeezenet) (0.4.8)\n",
      "Requirement already satisfied: oauthlib>=3.0.0 in c:\\users\\lars\\anaconda3\\lib\\site-packages (from requests-oauthlib>=0.7.0->google-auth-oauthlib<0.5,>=0.4.1->tensorboard<2.9,>=2.8->tensorflow->keras-squeezenet) (3.2.0)\n"
     ]
    },
    {
     "name": "stderr",
     "output_type": "stream",
     "text": [
      "WARNING: There was an error checking the latest version of pip.\n"
     ]
    },
    {
     "ename": "ImportError",
     "evalue": "cannot import name '_obtain_input_shape' from 'keras.applications.imagenet_utils' (C:\\Users\\Lars\\anaconda3\\lib\\site-packages\\keras\\applications\\imagenet_utils.py)",
     "output_type": "error",
     "traceback": [
      "\u001b[1;31m---------------------------------------------------------------------------\u001b[0m",
      "\u001b[1;31mImportError\u001b[0m                               Traceback (most recent call last)",
      "\u001b[1;32m~\\AppData\\Local\\Temp/ipykernel_31100/1657127256.py\u001b[0m in \u001b[0;36m<module>\u001b[1;34m\u001b[0m\n\u001b[0;32m      1\u001b[0m \u001b[1;32mimport\u001b[0m \u001b[0mnumpy\u001b[0m \u001b[1;32mas\u001b[0m \u001b[0mnp\u001b[0m\u001b[1;33m\u001b[0m\u001b[1;33m\u001b[0m\u001b[0m\n\u001b[0;32m      2\u001b[0m \u001b[0mget_ipython\u001b[0m\u001b[1;33m(\u001b[0m\u001b[1;33m)\u001b[0m\u001b[1;33m.\u001b[0m\u001b[0msystem\u001b[0m\u001b[1;33m(\u001b[0m\u001b[1;34m'pip3 install keras-squeezenet'\u001b[0m\u001b[1;33m)\u001b[0m\u001b[1;33m\u001b[0m\u001b[1;33m\u001b[0m\u001b[0m\n\u001b[1;32m----> 3\u001b[1;33m \u001b[1;32mfrom\u001b[0m \u001b[0mkeras_squeezenet\u001b[0m \u001b[1;32mimport\u001b[0m \u001b[0mSqueezeNet\u001b[0m\u001b[1;33m\u001b[0m\u001b[1;33m\u001b[0m\u001b[0m\n\u001b[0m\u001b[0;32m      4\u001b[0m \u001b[1;32mfrom\u001b[0m \u001b[0mkeras\u001b[0m\u001b[1;33m.\u001b[0m\u001b[0moptimizers\u001b[0m \u001b[1;32mimport\u001b[0m \u001b[0mAdam\u001b[0m\u001b[1;33m\u001b[0m\u001b[1;33m\u001b[0m\u001b[0m\n\u001b[0;32m      5\u001b[0m \u001b[1;32mfrom\u001b[0m \u001b[0mkeras\u001b[0m\u001b[1;33m.\u001b[0m\u001b[0mutils\u001b[0m \u001b[1;32mimport\u001b[0m \u001b[0mnp_utils\u001b[0m\u001b[1;33m\u001b[0m\u001b[1;33m\u001b[0m\u001b[0m\n",
      "\u001b[1;32m~\\anaconda3\\lib\\site-packages\\keras_squeezenet\\__init__.py\u001b[0m in \u001b[0;36m<module>\u001b[1;34m\u001b[0m\n\u001b[1;32m----> 1\u001b[1;33m \u001b[1;32mfrom\u001b[0m \u001b[0mkeras_squeezenet\u001b[0m\u001b[1;33m.\u001b[0m\u001b[0msqueezenet\u001b[0m \u001b[1;32mimport\u001b[0m \u001b[0mSqueezeNet\u001b[0m\u001b[1;33m\u001b[0m\u001b[1;33m\u001b[0m\u001b[0m\n\u001b[0m\u001b[0;32m      2\u001b[0m \u001b[1;32mfrom\u001b[0m \u001b[0mkeras_squeezenet\u001b[0m\u001b[1;33m.\u001b[0m\u001b[0mversion\u001b[0m \u001b[1;32mimport\u001b[0m \u001b[0m__version__\u001b[0m\u001b[1;33m\u001b[0m\u001b[1;33m\u001b[0m\u001b[0m\n",
      "\u001b[1;32m~\\anaconda3\\lib\\site-packages\\keras_squeezenet\\squeezenet.py\u001b[0m in \u001b[0;36m<module>\u001b[1;34m\u001b[0m\n\u001b[1;32m----> 1\u001b[1;33m \u001b[1;32mfrom\u001b[0m \u001b[0mkeras\u001b[0m\u001b[1;33m.\u001b[0m\u001b[0mapplications\u001b[0m\u001b[1;33m.\u001b[0m\u001b[0mimagenet_utils\u001b[0m \u001b[1;32mimport\u001b[0m \u001b[0m_obtain_input_shape\u001b[0m\u001b[1;33m\u001b[0m\u001b[1;33m\u001b[0m\u001b[0m\n\u001b[0m\u001b[0;32m      2\u001b[0m \u001b[1;32mfrom\u001b[0m \u001b[0mkeras\u001b[0m \u001b[1;32mimport\u001b[0m \u001b[0mbackend\u001b[0m \u001b[1;32mas\u001b[0m \u001b[0mK\u001b[0m\u001b[1;33m\u001b[0m\u001b[1;33m\u001b[0m\u001b[0m\n\u001b[0;32m      3\u001b[0m \u001b[1;32mfrom\u001b[0m \u001b[0mkeras\u001b[0m\u001b[1;33m.\u001b[0m\u001b[0mlayers\u001b[0m \u001b[1;32mimport\u001b[0m \u001b[0mInput\u001b[0m\u001b[1;33m,\u001b[0m \u001b[0mConvolution2D\u001b[0m\u001b[1;33m,\u001b[0m \u001b[0mMaxPooling2D\u001b[0m\u001b[1;33m,\u001b[0m \u001b[0mActivation\u001b[0m\u001b[1;33m,\u001b[0m \u001b[0mconcatenate\u001b[0m\u001b[1;33m,\u001b[0m \u001b[0mDropout\u001b[0m\u001b[1;33m,\u001b[0m \u001b[0mwarnings\u001b[0m\u001b[1;33m\u001b[0m\u001b[1;33m\u001b[0m\u001b[0m\n\u001b[0;32m      4\u001b[0m \u001b[1;32mfrom\u001b[0m \u001b[0mkeras\u001b[0m\u001b[1;33m.\u001b[0m\u001b[0mlayers\u001b[0m \u001b[1;32mimport\u001b[0m \u001b[0mGlobalAveragePooling2D\u001b[0m\u001b[1;33m,\u001b[0m \u001b[0mGlobalMaxPooling2D\u001b[0m\u001b[1;33m\u001b[0m\u001b[1;33m\u001b[0m\u001b[0m\n\u001b[0;32m      5\u001b[0m \u001b[1;32mfrom\u001b[0m \u001b[0mkeras\u001b[0m\u001b[1;33m.\u001b[0m\u001b[0mmodels\u001b[0m \u001b[1;32mimport\u001b[0m \u001b[0mModel\u001b[0m\u001b[1;33m\u001b[0m\u001b[1;33m\u001b[0m\u001b[0m\n",
      "\u001b[1;31mImportError\u001b[0m: cannot import name '_obtain_input_shape' from 'keras.applications.imagenet_utils' (C:\\Users\\Lars\\anaconda3\\lib\\site-packages\\keras\\applications\\imagenet_utils.py)"
     ]
    }
   ],
   "source": [
    "import numpy as np\n",
    "#!pip3 install keras-squeezenet\n",
    "from keras_squeezenet import SqueezeNet\n",
    "from keras.optimizers import Adam\n",
    "from keras.utils import np_utils\n",
    "from keras.layers import Activation, Dropout, Convolution2D, GlobalAveragePooling2D\n",
    "from keras.models import Sequential\n",
    "import tensorflow as tf\n",
    "GESTURE_CATEGORIES=6\n",
    "base_model = Sequential()\n",
    "base_model.add(SqueezeNet(input_shape=(225, 225, 3), include_top=False))\n",
    "base_model.add(Dropout(0.5))\n",
    "base_model.add(Convolution2D(GESTURE_CATEGORIES, (1, 1), padding='valid'))\n",
    "base_model.add(Activation('relu'))\n",
    "base_model.add(GlobalAveragePooling2D())\n",
    "base_model.add(Activation('softmax'))\n",
    "base_model.compile(\n",
    "    optimizer=Adam(lr=0.0001),\n",
    "    loss='categorical_crossentropy',\n",
    "    metrics=['accuracy']\n",
    ")"
   ]
  },
  {
   "cell_type": "code",
   "execution_count": null,
   "id": "4ee2e92f",
   "metadata": {},
   "outputs": [],
   "source": []
  }
 ],
 "metadata": {
  "kernelspec": {
   "display_name": "Python 3 (ipykernel)",
   "language": "python",
   "name": "python3"
  },
  "language_info": {
   "codemirror_mode": {
    "name": "ipython",
    "version": 3
   },
   "file_extension": ".py",
   "mimetype": "text/x-python",
   "name": "python",
   "nbconvert_exporter": "python",
   "pygments_lexer": "ipython3",
   "version": "3.9.7"
  }
 },
 "nbformat": 4,
 "nbformat_minor": 5
}
